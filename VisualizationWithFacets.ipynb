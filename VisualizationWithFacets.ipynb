{
 "cells": [
  {
   "cell_type": "code",
   "execution_count": null,
   "outputs": [],
   "source": [
    "import pandas as pd\n",
    "import os\n",
    "import numpy as np\n",
    "from loguru import logger\n",
    "import sys\n",
    "# Load dateloader\n",
    "from scipy.stats import gaussian_kde\n",
    "from sklearn import preprocessing\n",
    "from sklearn.neighbors import KNeighborsClassifier\n",
    "import contact_state_classification as csc"
   ],
   "metadata": {
    "collapsed": false,
    "pycharm": {
     "name": "#%%\n"
    }
   }
  },
  {
   "cell_type": "code",
   "execution_count": null,
   "outputs": [],
   "source": [
    "experiment_dir = csc.config.path[\"experiment_dir\"]\n",
    "cs_classifier = csc.CSClassifier(experiment_dir=experiment_dir, dataset_name=csc.config.path[\"dataset_name\"])\n",
    "\n",
    "cs_classifier.csd_data_dict.keys()\n",
    "\n",
    "cs_classifier.csd_data_dict[\"label\"]\n",
    "\n",
    "cs_classifier.predict(input_data=np.ones([1, 12]))"
   ],
   "metadata": {
    "collapsed": false,
    "pycharm": {
     "name": "#%%\n"
    }
   }
  },
  {
   "cell_type": "code",
   "execution_count": null,
   "outputs": [],
   "source": [
    "import base64\n",
    "from facets_overview.generic_feature_statistics_generator import GenericFeatureStatisticsGenerator\n",
    "\n",
    "# set the sprite_size based on the number of records in dataset,\n",
    "# larger datasets can crash the browser if the size is too large (>50000)\n",
    "\n",
    "\n",
    "df =  pd.DataFrame({'action' : list(range(1, 13)),\n",
    "                    'dist' : cs_classifier.csd_data_dict[\"dist\"][0],\n",
    "                    'd_ee_velocity_d0' : np.array(cs_classifier.csd_data_dict[\"d_ee_velocity\"][0])[:, 0],\n",
    "                    'd_ee_velocity_d1' : np.array(cs_classifier.csd_data_dict[\"d_ee_velocity\"][0])[:, 1],\n",
    "                    'd_ee_velocity_d2' : np.array(cs_classifier.csd_data_dict[\"d_ee_velocity\"][0])[:, 2],\n",
    "                    'd_ee_velocity_d3' : np.array(cs_classifier.csd_data_dict[\"d_ee_velocity\"][0])[:, 3],\n",
    "                    'd_ee_velocity_d4' : np.array(cs_classifier.csd_data_dict[\"d_ee_velocity\"][0])[:, 4],\n",
    "                    'd_ee_velocity_d5' : np.array(cs_classifier.csd_data_dict[\"d_ee_velocity\"][0])[:, 5]})\n",
    "\n",
    "\n",
    "gfsg = GenericFeatureStatisticsGenerator()\n",
    "proto = GenericFeatureStatisticsGenerator().ProtoFromDataFrames([{'name': 'test', 'table': df}])\n",
    "protostr = base64.b64encode(proto.SerializeToString()).decode(\"utf-8\")\n",
    "\n",
    "sprite_size = 32 if len(df.index)>50000 else 64\n",
    "jsonstr = df.to_json(orient='records')"
   ],
   "metadata": {
    "collapsed": false,
    "pycharm": {
     "name": "#%%\n"
    }
   }
  },
  {
   "cell_type": "code",
   "execution_count": null,
   "metadata": {
    "collapsed": true
   },
   "outputs": [],
   "source": [
    "# Display the Dive visualization for this data\n",
    "from IPython.core.display import display, HTML\n",
    "\n",
    "# Create Facets template\n",
    "HTML_TEMPLATE = \"\"\"<link rel=\"import\" href=\"/nbextensions/facets-dist/facets-jupyter.html\">\n",
    "        <facets-dive id=\"elem\" height=\"600\"></facets-dive>\n",
    "        <facets-overview id=\"fo\"></facets-overview>\n",
    "        <script>\n",
    "          document.querySelector(\"#elem\").data = {jsonstr};\n",
    "          document.querySelector(\"#fo\").protoInput = \"{protostr}\";\n",
    "        </script>\"\"\"\n",
    "\n",
    "# Load the json dataset and the sprite_size into the template\n",
    "html = HTML_TEMPLATE.format(jsonstr=jsonstr, protostr=protostr)\n",
    "\n",
    "# Display the template\n",
    "display(HTML(html))"
   ]
  }
 ],
 "metadata": {
  "kernelspec": {
   "display_name": "Python 3",
   "language": "python",
   "name": "python3"
  },
  "language_info": {
   "codemirror_mode": {
    "name": "ipython",
    "version": 2
   },
   "file_extension": ".py",
   "mimetype": "text/x-python",
   "name": "python",
   "nbconvert_exporter": "python",
   "pygments_lexer": "ipython2",
   "version": "2.7.6"
  }
 },
 "nbformat": 4,
 "nbformat_minor": 0
}