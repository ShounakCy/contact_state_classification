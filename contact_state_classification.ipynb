{
 "cells": [
  {
   "cell_type": "code",
   "execution_count": 1,
   "id": "39b1f129",
   "metadata": {},
   "outputs": [],
   "source": [
    "import pandas as pd\n",
    "import os\n",
    "import numpy as np\n",
    "from loguru import logger\n",
    "import sys\n",
    "# Load dateloader\n",
    "from scipy.stats import gaussian_kde\n",
    "from sklearn import preprocessing\n",
    "from sklearn.neighbors import KNeighborsClassifier\n",
    "import contact_state_classification as csc\n",
    "%matplotlib notebook"
   ]
  },
  {
   "cell_type": "code",
   "execution_count": 2,
   "id": "407292a9",
   "metadata": {
    "scrolled": true
   },
   "outputs": [
    {
     "name": "stderr",
     "output_type": "stream",
     "text": [
      "/usr/local/lib/python3.8/dist-packages/sklearn/neighbors/_classification.py:198: DataConversionWarning: A column-vector y was passed when a 1d array was expected. Please change the shape of y to (n_samples,), for example using ravel().\n",
      "  return self._fit(X, y)\n",
      "2021-10-27 15:04:46.544 | INFO     | contact_state_classification.cs_classifier:get_dataset_information:77 - All classes from the dataset RoboticsProject2510 are ['CS']: \n"
     ]
    }
   ],
   "source": [
    "experiment_dir = csc.config.path[\"experiment_dir\"]\n",
    "cs_classifier = csc.CSClassifier(experiment_dir=experiment_dir, dataset_name=csc.config.path[\"dataset_name\"])"
   ]
  },
  {
   "cell_type": "code",
   "execution_count": 3,
   "id": "67c5cec4",
   "metadata": {},
   "outputs": [
    {
     "data": {
      "text/plain": "dict_keys(['base_s_ee', 'curt_ee_ft_robot', 'd_ee_phi', 'd_ee_theta', 'd_ee_velocity', 'dist', 'error_q', 'init_base_ht_ee', 'init_ee_ft_robot', 'init_image', 'init_q', 'init_rs_image', 'init_usb_image', 'label', 'lock_type', 'obs_ee_phi', 'obs_ee_theta'])"
     },
     "execution_count": 3,
     "metadata": {},
     "output_type": "execute_result"
    }
   ],
   "source": [
    "cs_classifier.csd_data_dict.keys()"
   ]
  },
  {
   "cell_type": "code",
   "execution_count": 4,
   "id": "5bb37cac",
   "metadata": {},
   "outputs": [
    {
     "data": {
      "text/plain": "{0: 'CS6',\n 1: 'CS6',\n 2: 'CS6',\n 3: 'CS6',\n 4: 'CS6',\n 5: 'CS3',\n 6: 'CS3',\n 7: 'CS3',\n 8: 'CS3',\n 9: 'CS3',\n 10: 'CS5',\n 11: 'CS5',\n 12: 'CS5',\n 13: 'CS5',\n 14: 'CS5',\n 15: 'CS1',\n 16: 'CS1',\n 17: 'CS1',\n 18: 'CS1',\n 19: 'CS1'}"
     },
     "execution_count": 4,
     "metadata": {},
     "output_type": "execute_result"
    }
   ],
   "source": [
    "cs_classifier.csd_data_dict[\"label\"]"
   ]
  },
  {
   "cell_type": "code",
   "execution_count": 5,
   "id": "b7032b74",
   "metadata": {
    "pycharm": {
     "name": "#%%\n"
    }
   },
   "outputs": [
    {
     "data": {
      "text/plain": "(array([0]), array(['CS'], dtype='<U2'))"
     },
     "execution_count": 5,
     "metadata": {},
     "output_type": "execute_result"
    }
   ],
   "source": [
    "cs_classifier.predict(input_data=np.ones([1, 12]))\n",
    "\n"
   ]
  }
 ],
 "metadata": {
  "kernelspec": {
   "display_name": "Python 3",
   "language": "python",
   "name": "python3"
  },
  "language_info": {
   "codemirror_mode": {
    "name": "ipython",
    "version": 3
   },
   "file_extension": ".py",
   "mimetype": "text/x-python",
   "name": "python",
   "nbconvert_exporter": "python",
   "pygments_lexer": "ipython3",
   "version": "3.7.10"
  }
 },
 "nbformat": 4,
 "nbformat_minor": 5
}