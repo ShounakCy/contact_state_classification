{
 "cells": [
  {
   "cell_type": "code",
   "execution_count": 42,
   "id": "39b1f129",
   "metadata": {},
   "outputs": [],
   "source": [
    "import pandas as pd\n",
    "import os\n",
    "import numpy as np\n",
    "from loguru import logger\n",
    "import sys\n",
    "# Load dateloader\n",
    "from scipy.stats import gaussian_kde\n",
    "from sklearn import preprocessing\n",
    "from sklearn.neighbors import KNeighborsClassifier\n",
    "%matplotlib notebook"
   ]
  },
  {
   "cell_type": "code",
   "execution_count": 43,
   "id": "8317bd23",
   "metadata": {},
   "outputs": [],
   "source": [
    "class CS_Classifier:\n",
    "    def __init__(self, experiment_dir, dataset_name):\n",
    "        self.experiment_dir = experiment_dir\n",
    "        self.dataset_name = dataset_name\n",
    "        self.dataset_path = self.experiment_dir + \"/csd_result/\" + dataset_name + \".pkl\"\n",
    "        self.csd_dataset_plot_dir = self.experiment_dir + \"/csd_result/plot/\"\n",
    "        os.makedirs(self.csd_dataset_plot_dir, exist_ok=True)\n",
    "        self.csc_logger = logger\n",
    "\n",
    "        # Dataset\n",
    "        self.csd_data_df = None\n",
    "        self.csd_data_dict = None\n",
    "\n",
    "        # Classifier\n",
    "        self.lb = None\n",
    "        self.classifier = None\n",
    "\n",
    "        # Dataset information\n",
    "        self.all_classes = None\n",
    "        self.num_classes = None\n",
    "\n",
    "        # Train the classifier\n",
    "        self.load_data()\n",
    "        self.train_classifier(features=\"dist\")\n",
    "\n",
    "        self.get_dataset_information()\n",
    "\n",
    "    def load_data(self):\n",
    "        # load data to dict, because processing of dataframe takes too much time\n",
    "        self.csd_data_df = pd.read_pickle(self.dataset_path)\n",
    "        self.csd_data_dict = self.csd_data_df.to_dict()\n",
    "\n",
    "    def get_traj_index_by_labels(self, label):\n",
    "        traj_index_dict = dict()\n",
    "        for key, value in self.csd_data_dict['label'].items():\n",
    "            if label in value:\n",
    "                traj_index_dict[key] = value\n",
    "\n",
    "        labels = list(set(traj_index_dict.values()))\n",
    "\n",
    "        return traj_index_dict, labels\n",
    "\n",
    "    def merge_feature_by_labels(self, traj_index_dict=None, feature=\"dist\", labels=None):\n",
    "        feature_values = dict()\n",
    "        for label in labels:\n",
    "            feature_values[label] = []\n",
    "            traj_index_list = [key for key, value in traj_index_dict.items() if value == label]\n",
    "            for traj_index in traj_index_list:\n",
    "                feature_values[label].append(self.csd_data_dict[feature][traj_index])\n",
    "        return feature_values\n",
    "\n",
    "    def train_classifier(self, features=\"dist\"):\n",
    "        self.lb = preprocessing.LabelBinarizer()\n",
    "        X = []\n",
    "        y = []\n",
    "        for index, row in self.csd_data_df.iterrows():\n",
    "            X.append(row[features])\n",
    "            # use the first two string values as label\n",
    "            y.append(row[\"label\"][:2])\n",
    "        X = np.array(X)\n",
    "        self.lb.fit(y)\n",
    "        y = self.lb.transform(y)\n",
    "        num_labels = np.unique(y).shape[0]+1\n",
    "        self.classifier = KNeighborsClassifier(num_labels).fit(X, y)\n",
    "\n",
    "    def get_dataset_information(self):\n",
    "        self.all_classes = self.lb.classes_\n",
    "        self.num_classes = len(self.all_classes)\n",
    "        self.csc_logger.info(\"All classes from the dataset {} are {}: \", self.dataset_name, self.all_classes)\n",
    "\n",
    "    def predict(self, input_data):\n",
    "        result = self.classifier.predict(input_data)\n",
    "        label = self.lb.inverse_transform(result)\n",
    "        return result, label"
   ]
  },
  {
   "cell_type": "code",
   "execution_count": 44,
   "id": "407292a9",
   "metadata": {
    "scrolled": true
   },
   "outputs": [
    {
     "name": "stderr",
     "output_type": "stream",
     "text": [
      "/home/lx/anaconda3/envs/contact_lfd/lib/python3.7/site-packages/sklearn/neighbors/_classification.py:179: DataConversionWarning: A column-vector y was passed when a 1d array was expected. Please change the shape of y to (n_samples,), for example using ravel().\n",
      "  return self._fit(X, y)\n",
      "2021-10-25 17:44:46.724 | INFO     | __main__:get_dataset_information:69 - All classes from the dataset RoboticsProject2510 are ['CS']: \n"
     ]
    }
   ],
   "source": [
    "experiment_dir = \"/home/lx/experiments/lx/local_experiments/1908_hfv/\"\n",
    "cs_classifier = CS_Classifier(experiment_dir=experiment_dir, dataset_name=\"RoboticsProject2510\")"
   ]
  },
  {
   "cell_type": "code",
   "execution_count": 46,
   "id": "5bb37cac",
   "metadata": {},
   "outputs": [
    {
     "data": {
      "text/plain": [
       "{0: 'CS6',\n",
       " 1: 'CS6',\n",
       " 2: 'CS6',\n",
       " 3: 'CS6',\n",
       " 4: 'CS6',\n",
       " 5: 'CS3',\n",
       " 6: 'CS3',\n",
       " 7: 'CS3',\n",
       " 8: 'CS3',\n",
       " 9: 'CS3',\n",
       " 10: 'CS5',\n",
       " 11: 'CS5',\n",
       " 12: 'CS5',\n",
       " 13: 'CS5',\n",
       " 14: 'CS5',\n",
       " 15: 'CS1',\n",
       " 16: 'CS1',\n",
       " 17: 'CS1',\n",
       " 18: 'CS1',\n",
       " 19: 'CS1'}"
      ]
     },
     "execution_count": 46,
     "metadata": {},
     "output_type": "execute_result"
    }
   ],
   "source": [
    "cs_classifier.csd_data_dict[\"label\"]"
   ]
  },
  {
   "cell_type": "code",
   "execution_count": 29,
   "id": "b7032b74",
   "metadata": {},
   "outputs": [
    {
     "data": {
      "text/plain": [
       "(array([0]), array(['CS'], dtype='<U2'))"
      ]
     },
     "execution_count": 29,
     "metadata": {},
     "output_type": "execute_result"
    }
   ],
   "source": [
    "cs_classifier.predict(input_data=np.ones([1, 12]))"
   ]
  },
  {
   "cell_type": "code",
   "execution_count": null,
   "id": "3f2c0410",
   "metadata": {},
   "outputs": [],
   "source": []
  }
 ],
 "metadata": {
  "kernelspec": {
   "display_name": "Python 3",
   "language": "python",
   "name": "python3"
  },
  "language_info": {
   "codemirror_mode": {
    "name": "ipython",
    "version": 3
   },
   "file_extension": ".py",
   "mimetype": "text/x-python",
   "name": "python",
   "nbconvert_exporter": "python",
   "pygments_lexer": "ipython3",
   "version": "3.7.10"
  }
 },
 "nbformat": 4,
 "nbformat_minor": 5
}
