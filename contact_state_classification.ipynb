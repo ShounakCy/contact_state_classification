{
 "cells": [
  {
   "cell_type": "code",
   "execution_count": 1,
   "id": "39b1f129",
   "metadata": {},
   "outputs": [],
   "source": [
    "import pandas as pd\n",
    "import os\n",
    "import numpy as np\n",
    "from loguru import logger\n",
    "import sys\n",
    "# Load dateloader\n",
    "from scipy.stats import gaussian_kde\n",
    "from sklearn import preprocessing\n",
    "from sklearn.neighbors import KNeighborsClassifier\n",
    "import contact_state_classification as csc\n",
    "import numpy as np\n",
    "import pandas as pd\n",
    "import seaborn as sns\n",
    "import matplotlib.pyplot as plt"
   ]
  },
  {
   "cell_type": "code",
   "execution_count": 2,
   "id": "8cea87a8-ba96-4f25-ab0b-7793bc60fdd4",
   "metadata": {
    "pycharm": {
     "name": "#%%\n"
    }
   },
   "outputs": [
    {
     "name": "stderr",
     "output_type": "stream",
     "text": [
      "2021-11-16 09:56:46.264 | INFO     | contact_state_classification.cs_classifier:get_dataset_information:105 - All classes from the dataset RoboticsProject2510_2 are ['CS1' 'CS2' 'CS3' 'CS5' 'CS6']: \n"
     ]
    }
   ],
   "source": [
    "experiment_dir = csc.config.path[\"experiment_dir\"]\n",
    "cs_classifier = csc.CSClassifier(experiment_dir=experiment_dir, dataset_name=csc.config.path[\"dataset_name\"])"
   ]
  },
  {
   "cell_type": "code",
   "execution_count": 3,
   "id": "e87bb89e",
   "metadata": {
    "collapsed": false,
    "jupyter": {
     "outputs_hidden": false
    },
    "pycharm": {
     "name": "#%%\n"
    }
   },
   "outputs": [],
   "source": [
    "def show_plots(col):\n",
    "    cs1_df = cs_classifier.csd_data_df.loc[cs1_idx_list][col]\n",
    "    cs3_df = cs_classifier.csd_data_df.loc[cs3_idx_list][col]\n",
    "    cs5_df = cs_classifier.csd_data_df.loc[cs5_idx_list][col]\n",
    "    cs6_df = cs_classifier.csd_data_df.loc[cs6_idx_list][col]\n",
    "\n",
    "    # cs1_df_theta = pd.DataFrame([*cs1_df], columns = ['act' + str(x) for x in range(1, 13)])\n",
    "\n",
    "    df_cs1 =  pd.DataFrame({'CS1' : [item for item in cs1_idx_list for i in range(12)],\n",
    "                            'action' : list(range(1, 13)) * len(cs1_idx_list),\n",
    "                            col : pd.DataFrame([*cs1_df]).to_numpy().flatten()})\n",
    "\n",
    "    df_cs3 =  pd.DataFrame({'CS3' : [item for item in cs3_idx_list for i in range(12)],\n",
    "                            'action' : list(range(1, 13)) * len(cs3_idx_list),\n",
    "                            col : pd.DataFrame([*cs3_df]).to_numpy().flatten()})\n",
    "\n",
    "    df_cs5 =  pd.DataFrame({'CS5' : [item for item in cs5_idx_list for i in range(12)],\n",
    "                            'action' : list(range(1, 13)) * len(cs5_idx_list),\n",
    "                            col : pd.DataFrame([*cs5_df]).to_numpy().flatten()})\n",
    "\n",
    "    df_cs6 =  pd.DataFrame({'CS6' : [item for item in cs6_idx_list for i in range(12)],\n",
    "                            'action' : list(range(1, 13)) * len(cs6_idx_list),\n",
    "                            col : pd.DataFrame([*cs6_df]).to_numpy().flatten()})\n",
    "\n",
    "    sns_plot = sns.relplot(x=\"action\", y=col, hue=\"CS1\",\n",
    "                dashes=False, markers=True, kind=\"line\", data=df_cs1)\n",
    "    sns_plot.savefig(\"cs1.png\")\n",
    "\n",
    "    sns_plot = sns.relplot(x=\"action\", y=col, hue=\"CS3\",\n",
    "                dashes=False, markers=True, kind=\"line\", data=df_cs3)\n",
    "    sns_plot.savefig(\"cs3.png\")\n",
    "\n",
    "    sns_plot = sns.relplot(x=\"action\", y=col, hue=\"CS5\",\n",
    "                dashes=False, markers=True, kind=\"line\", data=df_cs5)\n",
    "    sns_plot.savefig(\"cs5.png\")\n",
    "\n",
    "    sns_plot = sns.relplot(x=\"action\", y=col, hue=\"CS6\",\n",
    "                dashes=False, markers=True, kind=\"line\", data=df_cs6)\n",
    "    sns_plot.savefig(\"cs6.png\")\n"
   ]
  },
  {
   "cell_type": "code",
   "execution_count": 4,
   "id": "f5fafcb1-4b00-4e9a-9250-74269690266e",
   "metadata": {},
   "outputs": [],
   "source": [
    "import base64\n",
    "from facets_overview.generic_feature_statistics_generator import GenericFeatureStatisticsGenerator\n",
    "\n",
    "gfsg = GenericFeatureStatisticsGenerator()\n",
    "proto = gfsg.ProtoFromDataFrames([{'name': 'train', 'table': cs_classifier.X_df}])\n",
    "protostr = base64.b64encode(proto.SerializeToString()).decode(\"utf-8\")\n",
    "\n",
    "sprite_size = 32 if len(cs_classifier.X_df.index)>50000 else 64\n",
    "\n",
    "jsonstr = cs_classifier.X_df.to_json(orient='records')"
   ]
  },
  {
   "cell_type": "code",
   "execution_count": 12,
   "id": "5f00fb85-465e-4c93-bbb3-9e693efc49d5",
   "metadata": {
    "tags": []
   },
   "outputs": [
    {
     "data": {
      "text/html": [
       "\n",
       "        <script src=\"https://cdnjs.cloudflare.com/ajax/libs/webcomponentsjs/1.3.3/webcomponents-lite.js\"></script>\n",
       "        <link rel=\"import\" href=\"https://raw.githubusercontent.com/PAIR-code/facets/1.0.0/facets-dist/facets-jupyter.html\">\n",
       "        <facets-dive id=\"elem\" height=\"1000\"></facets-dive>\n",
       "        <script>\n",
       "          var data = [{\"act0 dist\":0.0000895197,\"act1 dist\":0.0162565277,\"act2 dist\":0.0171398847,\"act3 dist\":0.0173243722,\"act4 dist\":0.002483388,\"act5 dist\":0.0028817288,\"act6 dist\":0.0033645707,\"act7 dist\":0.0047364508,\"act8 dist\":0.0034624364,\"act9 dist\":0.0025762449,\"act10 dist\":0.0025254534,\"act11 dist\":0.0025199427,\"label\":\"CS6\"},{\"act0 dist\":0.0156689633,\"act1 dist\":0.017302004,\"act2 dist\":0.0175326598,\"act3 dist\":0.0174732559,\"act4 dist\":0.0026723801,\"act5 dist\":0.0027221349,\"act6 dist\":0.0028049196,\"act7 dist\":0.0046656821,\"act8 dist\":0.0027929348,\"act9 dist\":0.0018848182,\"act10 dist\":0.0018179489,\"act11 dist\":0.001741145,\"label\":\"CS6\"},{\"act0 dist\":0.0162240533,\"act1 dist\":0.0178439918,\"act2 dist\":0.0177908536,\"act3 dist\":0.017768261,\"act4 dist\":0.0030380428,\"act5 dist\":0.0027568904,\"act6 dist\":0.0023197772,\"act7 dist\":0.0045162724,\"act8 dist\":0.0023034505,\"act9 dist\":0.0014574844,\"act10 dist\":0.0014527878,\"act11 dist\":0.0014543946,\"label\":\"CS6\"},{\"act0 dist\":0.0163673579,\"act1 dist\":0.0177548853,\"act2 dist\":0.0178706035,\"act3 dist\":0.017861527,\"act4 dist\":0.0030565988,\"act5 dist\":0.0028948627,\"act6 dist\":0.0020755513,\"act7 dist\":0.0044986735,\"act8 dist\":0.0020674331,\"act9 dist\":0.0014358678,\"act10 dist\":0.0014309762,\"act11 dist\":0.0014368159,\"label\":\"CS6\"},{\"act0 dist\":0.0168738491,\"act1 dist\":0.0175242684,\"act2 dist\":0.0177744313,\"act3 dist\":0.0179373832,\"act4 dist\":0.0030655553,\"act5 dist\":0.0029733143,\"act6 dist\":0.0019803044,\"act7 dist\":0.0045229534,\"act8 dist\":0.0020147861,\"act9 dist\":0.0014261353,\"act10 dist\":0.0014227133,\"act11 dist\":0.0014282692,\"label\":\"CS6\"},{\"act0 dist\":0.0003094321,\"act1 dist\":0.0058730285,\"act2 dist\":0.0059449615,\"act3 dist\":0.0059738517,\"act4 dist\":0.0117628899,\"act5 dist\":0.0103456294,\"act6 dist\":0.0233337111,\"act7 dist\":0.0063539007,\"act8 dist\":0.0123241953,\"act9 dist\":0.0127187285,\"act10 dist\":0.0130036183,\"act11 dist\":0.0127121608,\"label\":\"CS3\"},{\"act0 dist\":0.0065566163,\"act1 dist\":0.0067191759,\"act2 dist\":0.006768732,\"act3 dist\":0.0067830274,\"act4 dist\":0.0124230427,\"act5 dist\":0.0110423894,\"act6 dist\":0.0231693101,\"act7 dist\":0.0060040424,\"act8 dist\":0.0136233899,\"act9 dist\":0.0140936214,\"act10 dist\":0.0144260138,\"act11 dist\":0.0145557266,\"label\":\"CS3\"},{\"act0 dist\":0.0068459362,\"act1 dist\":0.0071677522,\"act2 dist\":0.0072418432,\"act3 dist\":0.0072860912,\"act4 dist\":0.012684736,\"act5 dist\":0.013569175,\"act6 dist\":0.0231203774,\"act7 dist\":0.0056231924,\"act8 dist\":0.0146783805,\"act9 dist\":0.0149640875,\"act10 dist\":0.0153803358,\"act11 dist\":0.0153126731,\"label\":\"CS3\"},{\"act0 dist\":0.0075062357,\"act1 dist\":0.0077369745,\"act2 dist\":0.0078697706,\"act3 dist\":0.0078622007,\"act4 dist\":0.01315096,\"act5 dist\":0.0136506408,\"act6 dist\":0.0226315736,\"act7 dist\":0.0059379598,\"act8 dist\":0.0152520173,\"act9 dist\":0.0156633726,\"act10 dist\":0.0156086372,\"act11 dist\":0.0157504366,\"label\":\"CS3\"},{\"act0 dist\":0.0084644415,\"act1 dist\":0.0085438211,\"act2 dist\":0.0086245081,\"act3 dist\":0.0086695752,\"act4 dist\":0.0137658872,\"act5 dist\":0.0121160079,\"act6 dist\":0.0218333595,\"act7 dist\":0.0064303791,\"act8 dist\":0.0154622477,\"act9 dist\":0.0161791447,\"act10 dist\":0.0163491965,\"act11 dist\":0.0163573022,\"label\":\"CS3\"},{\"act0 dist\":0.0021047914,\"act1 dist\":0.0090688108,\"act2 dist\":0.0085392693,\"act3 dist\":0.0085836858,\"act4 dist\":0.0100239062,\"act5 dist\":0.0017062042,\"act6 dist\":0.0230570351,\"act7 dist\":0.0142783693,\"act8 dist\":0.015005267,\"act9 dist\":0.0166208159,\"act10 dist\":0.0159858276,\"act11 dist\":0.0158552373,\"label\":\"CS5\"},{\"act0 dist\":0.00919525,\"act1 dist\":0.0099279414,\"act2 dist\":0.0098984525,\"act3 dist\":0.0100152257,\"act4 dist\":0.0103683505,\"act5 dist\":0.0019463236,\"act6 dist\":0.0227235318,\"act7 dist\":0.0157431862,\"act8 dist\":0.0158467342,\"act9 dist\":0.0159553501,\"act10 dist\":0.0168730422,\"act11 dist\":0.0167720166,\"label\":\"CS5\"},{\"act0 dist\":0.0102835253,\"act1 dist\":0.0104546971,\"act2 dist\":0.0106214006,\"act3 dist\":0.0105847053,\"act4 dist\":0.0112730726,\"act5 dist\":0.0017640477,\"act6 dist\":0.0223751841,\"act7 dist\":0.0163994325,\"act8 dist\":0.0160597056,\"act9 dist\":0.0179083736,\"act10 dist\":0.0183600222,\"act11 dist\":0.0184851738,\"label\":\"CS5\"},{\"act0 dist\":0.0111975856,\"act1 dist\":0.0115041207,\"act2 dist\":0.0117439594,\"act3 dist\":0.011733203,\"act4 dist\":0.0118112867,\"act5 dist\":0.0019997491,\"act6 dist\":0.021948098,\"act7 dist\":0.0165661641,\"act8 dist\":0.0195702735,\"act9 dist\":0.0186932717,\"act10 dist\":0.0196450158,\"act11 dist\":0.0193953119,\"label\":\"CS5\"},{\"act0 dist\":0.0119549436,\"act1 dist\":0.0123376093,\"act2 dist\":0.012562649,\"act3 dist\":0.0124744413,\"act4 dist\":0.0128074668,\"act5 dist\":0.0018994276,\"act6 dist\":0.021846098,\"act7 dist\":0.0167886556,\"act8 dist\":0.0185425741,\"act9 dist\":0.0202403026,\"act10 dist\":0.0198003136,\"act11 dist\":0.0207133544,\"label\":\"CS5\"},{\"act0 dist\":0.0006116266,\"act1 dist\":0.015224577,\"act2 dist\":0.0174861788,\"act3 dist\":0.0175311639,\"act4 dist\":0.0044609683,\"act5 dist\":0.019376875,\"act6 dist\":0.0024242061,\"act7 dist\":0.004419743,\"act8 dist\":0.0069525858,\"act9 dist\":0.0059968521,\"act10 dist\":0.0058813001,\"act11 dist\":0.0056129105,\"label\":\"CS1\"},{\"act0 dist\":0.0151954725,\"act1 dist\":0.0174643029,\"act2 dist\":0.0175592978,\"act3 dist\":0.0177172199,\"act4 dist\":0.0041817317,\"act5 dist\":0.0195243149,\"act6 dist\":0.0021733874,\"act7 dist\":0.0043329823,\"act8 dist\":0.0064881175,\"act9 dist\":0.0045683942,\"act10 dist\":0.0045113685,\"act11 dist\":0.0044849474,\"label\":\"CS1\"},{\"act0 dist\":0.0154269794,\"act1 dist\":0.0164901011,\"act2 dist\":0.0171204327,\"act3 dist\":0.0171467834,\"act4 dist\":0.0039537143,\"act5 dist\":0.021037069,\"act6 dist\":0.0022519389,\"act7 dist\":0.0060460794,\"act8 dist\":0.0042950202,\"act9 dist\":0.0040097496,\"act10 dist\":0.0040013032,\"act11 dist\":0.0040333105,\"label\":\"CS1\"},{\"act0 dist\":0.0153130672,\"act1 dist\":0.0165969064,\"act2 dist\":0.0167745408,\"act3 dist\":0.0166996096,\"act4 dist\":0.0032090869,\"act5 dist\":0.020288516,\"act6 dist\":0.0026974807,\"act7 dist\":0.007216193,\"act8 dist\":0.0043023205,\"act9 dist\":0.0036806966,\"act10 dist\":0.0036836373,\"act11 dist\":0.0037415358,\"label\":\"CS1\"},{\"act0 dist\":0.0148991598,\"act1 dist\":0.016415067,\"act2 dist\":0.0164659496,\"act3 dist\":0.0163692846,\"act4 dist\":0.002699621,\"act5 dist\":0.0196588378,\"act6 dist\":0.0028646863,\"act7 dist\":0.0081808105,\"act8 dist\":0.0043970879,\"act9 dist\":0.0034137953,\"act10 dist\":0.0033965139,\"act11 dist\":0.0033952893,\"label\":\"CS1\"},{\"act0 dist\":0.000021098,\"act1 dist\":0.0153130508,\"act2 dist\":0.0158332366,\"act3 dist\":0.0161104664,\"act4 dist\":0.0064502212,\"act5 dist\":0.0036419381,\"act6 dist\":0.0028253278,\"act7 dist\":0.0046581139,\"act8 dist\":0.0019482358,\"act9 dist\":0.0012830013,\"act10 dist\":0.0011806055,\"act11 dist\":0.0011301196,\"label\":\"CS6\"},{\"act0 dist\":0.015243293,\"act1 dist\":0.0158704199,\"act2 dist\":0.0159385902,\"act3 dist\":0.0161615008,\"act4 dist\":0.0064226395,\"act5 dist\":0.0034564735,\"act6 dist\":0.0026924873,\"act7 dist\":0.0047187767,\"act8 dist\":0.0017703065,\"act9 dist\":0.0009833521,\"act10 dist\":0.0009143799,\"act11 dist\":0.0008666814,\"label\":\"CS6\"},{\"act0 dist\":0.0153215086,\"act1 dist\":0.0161798185,\"act2 dist\":0.0161877269,\"act3 dist\":0.0162064591,\"act4 dist\":0.0064163781,\"act5 dist\":0.0034723179,\"act6 dist\":0.0026263314,\"act7 dist\":0.0047122253,\"act8 dist\":0.0016754801,\"act9 dist\":0.0007697921,\"act10 dist\":0.0007090647,\"act11 dist\":0.0006666945,\"label\":\"CS6\"},{\"act0 dist\":0.0152894729,\"act1 dist\":0.0161208313,\"act2 dist\":0.0161494837,\"act3 dist\":0.0158908172,\"act4 dist\":0.0064512915,\"act5 dist\":0.0035317896,\"act6 dist\":0.0025926715,\"act7 dist\":0.004670504,\"act8 dist\":0.001513581,\"act9 dist\":0.0006389257,\"act10 dist\":0.0006022983,\"act11 dist\":0.0005749268,\"label\":\"CS6\"},{\"act0 dist\":0.0152396806,\"act1 dist\":0.0162293684,\"act2 dist\":0.0161665606,\"act3 dist\":0.016075019,\"act4 dist\":0.0063879325,\"act5 dist\":0.0036660026,\"act6 dist\":0.0026069892,\"act7 dist\":0.0045454139,\"act8 dist\":0.0015032168,\"act9 dist\":0.0006157032,\"act10 dist\":0.0005869451,\"act11 dist\":0.0005419505,\"label\":\"CS6\"},{\"act0 dist\":0.0152350571,\"act1 dist\":0.0159345059,\"act2 dist\":0.0159792411,\"act3 dist\":0.0161934654,\"act4 dist\":0.0063522685,\"act5 dist\":0.0036675495,\"act6 dist\":0.0025486031,\"act7 dist\":0.0044738562,\"act8 dist\":0.0014862583,\"act9 dist\":0.0005850178,\"act10 dist\":0.0005656936,\"act11 dist\":0.0005148464,\"label\":\"CS6\"},{\"act0 dist\":0.0153412834,\"act1 dist\":0.016053311,\"act2 dist\":0.0160038886,\"act3 dist\":0.0160969758,\"act4 dist\":0.0062981215,\"act5 dist\":0.0037852485,\"act6 dist\":0.0025568361,\"act7 dist\":0.0044015626,\"act8 dist\":0.0014360448,\"act9 dist\":0.0005927905,\"act10 dist\":0.0005543892,\"act11 dist\":0.0005576865,\"label\":\"CS6\"},{\"act0 dist\":0.0150973183,\"act1 dist\":0.0155058037,\"act2 dist\":0.0161383411,\"act3 dist\":0.0160372924,\"act4 dist\":0.0062313524,\"act5 dist\":0.0039589935,\"act6 dist\":0.0026040021,\"act7 dist\":0.0042539368,\"act8 dist\":0.0014120589,\"act9 dist\":0.0005847152,\"act10 dist\":0.0005746301,\"act11 dist\":0.0005599326,\"label\":\"CS6\"},{\"act0 dist\":0.0146844621,\"act1 dist\":0.0159852514,\"act2 dist\":0.0155823233,\"act3 dist\":0.0160275585,\"act4 dist\":0.0061055691,\"act5 dist\":0.0040167775,\"act6 dist\":0.0026410982,\"act7 dist\":0.0041759947,\"act8 dist\":0.0014247279,\"act9 dist\":0.0005705985,\"act10 dist\":0.0005571448,\"act11 dist\":0.0005003422,\"label\":\"CS6\"},{\"act0 dist\":0.0151817951,\"act1 dist\":0.0160462785,\"act2 dist\":0.0159731142,\"act3 dist\":0.0159850763,\"act4 dist\":0.0062180207,\"act5 dist\":0.0039665143,\"act6 dist\":0.0025718749,\"act7 dist\":0.0041858145,\"act8 dist\":0.001366382,\"act9 dist\":0.0005136356,\"act10 dist\":0.0004892323,\"act11 dist\":0.0004738568,\"label\":\"CS6\"},{\"act0 dist\":0.0030037622,\"act1 dist\":0.0080652727,\"act2 dist\":0.0079081392,\"act3 dist\":0.0079695318,\"act4 dist\":0.010624379,\"act5 dist\":0.0059353016,\"act6 dist\":0.0215377252,\"act7 dist\":0.0070978141,\"act8 dist\":0.0206542742,\"act9 dist\":0.0212728024,\"act10 dist\":0.0215734656,\"act11 dist\":0.0216914929,\"label\":\"CS3\"},{\"act0 dist\":0.0080414879,\"act1 dist\":0.0088623852,\"act2 dist\":0.0090335446,\"act3 dist\":0.0092379558,\"act4 dist\":0.0112104553,\"act5 dist\":0.0143748729,\"act6 dist\":0.018582319,\"act7 dist\":0.0082197322,\"act8 dist\":0.0209642243,\"act9 dist\":0.0217215354,\"act10 dist\":0.0216664743,\"act11 dist\":0.0214700979,\"label\":\"CS3\"},{\"act0 dist\":0.0089655117,\"act1 dist\":0.0099449418,\"act2 dist\":0.0100428832,\"act3 dist\":0.0101165223,\"act4 dist\":0.0115738086,\"act5 dist\":0.0145021967,\"act6 dist\":0.01674964,\"act7 dist\":0.0092443241,\"act8 dist\":0.0213894218,\"act9 dist\":0.0221186579,\"act10 dist\":0.015841563,\"act11 dist\":0.014871076,\"label\":\"CS3\"},{\"act0 dist\":0.0105621932,\"act1 dist\":0.0111555986,\"act2 dist\":0.0114225867,\"act3 dist\":0.0114304267,\"act4 dist\":0.0121305804,\"act5 dist\":0.012686884,\"act6 dist\":0.0124356163,\"act7 dist\":0.0078642007,\"act8 dist\":0.0226784935,\"act9 dist\":0.0218915381,\"act10 dist\":0.0121452128,\"act11 dist\":0.01101588,\"label\":\"CS3\"},{\"act0 dist\":0.010431783,\"act1 dist\":0.011861091,\"act2 dist\":0.0120216996,\"act3 dist\":0.0118160366,\"act4 dist\":0.0117295444,\"act5 dist\":0.0133885359,\"act6 dist\":0.0205432433,\"act7 dist\":0.0075916671,\"act8 dist\":0.0235234756,\"act9 dist\":0.0235915806,\"act10 dist\":0.0231564866,\"act11 dist\":0.0233205626,\"label\":\"CS3\"},{\"act0 dist\":0.0106336856,\"act1 dist\":0.011851903,\"act2 dist\":0.0123119032,\"act3 dist\":0.0121063789,\"act4 dist\":0.011254405,\"act5 dist\":0.0144386395,\"act6 dist\":0.0197048079,\"act7 dist\":0.0080479851,\"act8 dist\":0.0234993785,\"act9 dist\":0.0233644513,\"act10 dist\":0.0234137126,\"act11 dist\":0.0245129288,\"label\":\"CS3\"},{\"act0 dist\":0.0110268416,\"act1 dist\":0.0117344324,\"act2 dist\":0.0121647747,\"act3 dist\":0.0123237538,\"act4 dist\":0.0111587506,\"act5 dist\":0.0033902616,\"act6 dist\":0.0173764771,\"act7 dist\":0.0067574325,\"act8 dist\":0.0230846502,\"act9 dist\":0.0227311976,\"act10 dist\":0.0150257258,\"act11 dist\":0.022474707,\"label\":\"CS3\"},{\"act0 dist\":0.0129991963,\"act1 dist\":0.0121786682,\"act2 dist\":0.0123991116,\"act3 dist\":0.0130897805,\"act4 dist\":0.0127972555,\"act5 dist\":0.0149677268,\"act6 dist\":0.0116548085,\"act7 dist\":0.0074166644,\"act8 dist\":0.023259216,\"act9 dist\":0.0235744066,\"act10 dist\":0.0229091836,\"act11 dist\":0.0229529627,\"label\":\"CS3\"},{\"act0 dist\":0.0110374933,\"act1 dist\":0.0137178293,\"act2 dist\":0.012514501,\"act3 dist\":0.0129927688,\"act4 dist\":0.0115613378,\"act5 dist\":0.0021444322,\"act6 dist\":0.0172980752,\"act7 dist\":0.0072416234,\"act8 dist\":0.0228499078,\"act9 dist\":0.0228418557,\"act10 dist\":0.0218465343,\"act11 dist\":0.0226699038,\"label\":\"CS3\"},{\"act0 dist\":0.0119343442,\"act1 dist\":0.0147662233,\"act2 dist\":0.0131228913,\"act3 dist\":0.013612749,\"act4 dist\":0.0126073657,\"act5 dist\":0.0026360834,\"act6 dist\":0.0100621458,\"act7 dist\":0.0055784574,\"act8 dist\":0.0181117153,\"act9 dist\":0.0179557432,\"act10 dist\":0.0169184344,\"act11 dist\":0.0059097304,\"label\":\"CS3\"},{\"act0 dist\":0.0002712318,\"act1 dist\":0.0079942284,\"act2 dist\":0.0079183963,\"act3 dist\":0.0079822886,\"act4 dist\":0.008417948,\"act5 dist\":0.0016797189,\"act6 dist\":0.0227322457,\"act7 dist\":0.0081813323,\"act8 dist\":0.0130819044,\"act9 dist\":0.0120508173,\"act10 dist\":0.0119776577,\"act11 dist\":0.0121066938,\"label\":\"CS5\"},{\"act0 dist\":0.0080338775,\"act1 dist\":0.0085358152,\"act2 dist\":0.0085881936,\"act3 dist\":0.0085376368,\"act4 dist\":0.0084217903,\"act5 dist\":0.0019120198,\"act6 dist\":0.0224689117,\"act7 dist\":0.0090459882,\"act8 dist\":0.0128115167,\"act9 dist\":0.0133539974,\"act10 dist\":0.0137036768,\"act11 dist\":0.0133751261,\"label\":\"CS5\"},{\"act0 dist\":0.0088239419,\"act1 dist\":0.0091787424,\"act2 dist\":0.0091711286,\"act3 dist\":0.0091851083,\"act4 dist\":0.0092228456,\"act5 dist\":0.0017101526,\"act6 dist\":0.0223105226,\"act7 dist\":0.0085372484,\"act8 dist\":0.013766703,\"act9 dist\":0.0137695418,\"act10 dist\":0.0142244305,\"act11 dist\":0.0139381659,\"label\":\"CS5\"},{\"act0 dist\":0.0090225116,\"act1 dist\":0.0094905658,\"act2 dist\":0.0095509587,\"act3 dist\":0.009502002,\"act4 dist\":0.0096623269,\"act5 dist\":0.0017474631,\"act6 dist\":0.023022476,\"act7 dist\":0.0096153064,\"act8 dist\":0.0155082413,\"act9 dist\":0.0160937197,\"act10 dist\":0.0157516659,\"act11 dist\":0.015977576,\"label\":\"CS5\"},{\"act0 dist\":0.0095575837,\"act1 dist\":0.0099457847,\"act2 dist\":0.0099876862,\"act3 dist\":0.0100211127,\"act4 dist\":0.0101164638,\"act5 dist\":0.0018968891,\"act6 dist\":0.0225525955,\"act7 dist\":0.0099405424,\"act8 dist\":0.0160358509,\"act9 dist\":0.0168917902,\"act10 dist\":0.0168639046,\"act11 dist\":0.0176187387,\"label\":\"CS5\"},{\"act0 dist\":0.0100775279,\"act1 dist\":0.0104353157,\"act2 dist\":0.0103533778,\"act3 dist\":0.0104319449,\"act4 dist\":0.0106184475,\"act5 dist\":0.0041247151,\"act6 dist\":0.0220589136,\"act7 dist\":0.0109938874,\"act8 dist\":0.0177145452,\"act9 dist\":0.0179451846,\"act10 dist\":0.0184508791,\"act11 dist\":0.0181764475,\"label\":\"CS5\"},{\"act0 dist\":0.0106271223,\"act1 dist\":0.0109971489,\"act2 dist\":0.0110873156,\"act3 dist\":0.0111323406,\"act4 dist\":0.0110806675,\"act5 dist\":0.0025130605,\"act6 dist\":0.0213078793,\"act7 dist\":0.0122411197,\"act8 dist\":0.01848442,\"act9 dist\":0.0188321187,\"act10 dist\":0.0191002417,\"act11 dist\":0.0187880924,\"label\":\"CS5\"},{\"act0 dist\":0.0115067683,\"act1 dist\":0.0120031215,\"act2 dist\":0.0120178566,\"act3 dist\":0.0118071988,\"act4 dist\":0.0109786123,\"act5 dist\":0.0032010407,\"act6 dist\":0.0208813521,\"act7 dist\":0.0140832777,\"act8 dist\":0.0197383941,\"act9 dist\":0.0200633359,\"act10 dist\":0.0200832783,\"act11 dist\":0.0201991704,\"label\":\"CS5\"},{\"act0 dist\":0.0118710576,\"act1 dist\":0.0127955879,\"act2 dist\":0.0130230088,\"act3 dist\":0.0130560636,\"act4 dist\":0.0115162654,\"act5 dist\":0.0032254375,\"act6 dist\":0.0208454157,\"act7 dist\":0.0128810834,\"act8 dist\":0.0202261313,\"act9 dist\":0.0201371936,\"act10 dist\":0.0203360028,\"act11 dist\":0.0204956388,\"label\":\"CS5\"},{\"act0 dist\":0.0121005034,\"act1 dist\":0.0134085237,\"act2 dist\":0.0140415232,\"act3 dist\":0.0138332922,\"act4 dist\":0.0120269349,\"act5 dist\":0.0031494679,\"act6 dist\":0.0199860139,\"act7 dist\":0.0134818163,\"act8 dist\":0.0202880365,\"act9 dist\":0.0203412822,\"act10 dist\":0.0206167613,\"act11 dist\":0.020764251,\"label\":\"CS5\"},{\"act0 dist\":0.0003359884,\"act1 dist\":0.0125346301,\"act2 dist\":0.0134769796,\"act3 dist\":0.0134936876,\"act4 dist\":0.0061162133,\"act5 dist\":0.0215921288,\"act6 dist\":0.0038255981,\"act7 dist\":0.0035374439,\"act8 dist\":0.0043331054,\"act9 dist\":0.0038644978,\"act10 dist\":0.0030866308,\"act11 dist\":0.0038747795,\"label\":\"CS1\"},{\"act0 dist\":0.011994091,\"act1 dist\":0.0138027965,\"act2 dist\":0.0133046024,\"act3 dist\":0.01362128,\"act4 dist\":0.0060892937,\"act5 dist\":0.0209588895,\"act6 dist\":0.0036929557,\"act7 dist\":0.0039627354,\"act8 dist\":0.0039465163,\"act9 dist\":0.0024001596,\"act10 dist\":0.0023870087,\"act11 dist\":0.0024168565,\"label\":\"CS1\"},{\"act0 dist\":0.0123512667,\"act1 dist\":0.0139506065,\"act2 dist\":0.0136582629,\"act3 dist\":0.0136698399,\"act4 dist\":0.0061555329,\"act5 dist\":0.0195060358,\"act6 dist\":0.0026567552,\"act7 dist\":0.0058234325,\"act8 dist\":0.0024881607,\"act9 dist\":0.0016424868,\"act10 dist\":0.0015659636,\"act11 dist\":0.0015311424,\"label\":\"CS1\"},{\"act0 dist\":0.0124202531,\"act1 dist\":0.0135705554,\"act2 dist\":0.0135159923,\"act3 dist\":0.0136333928,\"act4 dist\":0.0060596777,\"act5 dist\":0.0185011907,\"act6 dist\":0.0023320081,\"act7 dist\":0.0068149775,\"act8 dist\":0.0020508686,\"act9 dist\":0.0012025644,\"act10 dist\":0.0011038097,\"act11 dist\":0.0010918629,\"label\":\"CS1\"},{\"act0 dist\":0.0127773794,\"act1 dist\":0.0140520421,\"act2 dist\":0.0138121474,\"act3 dist\":0.0140331707,\"act4 dist\":0.0058877804,\"act5 dist\":0.0174961313,\"act6 dist\":0.0024291288,\"act7 dist\":0.0073599681,\"act8 dist\":0.0016160145,\"act9 dist\":0.0009131943,\"act10 dist\":0.0008462072,\"act11 dist\":0.0008224493,\"label\":\"CS1\"},{\"act0 dist\":0.0127675037,\"act1 dist\":0.0136074421,\"act2 dist\":0.0137141401,\"act3 dist\":0.0140970301,\"act4 dist\":0.0057627865,\"act5 dist\":0.0169946648,\"act6 dist\":0.0025575795,\"act7 dist\":0.0074547198,\"act8 dist\":0.0014908803,\"act9 dist\":0.0008392419,\"act10 dist\":0.0007812886,\"act11 dist\":0.0007096468,\"label\":\"CS1\"},{\"act0 dist\":0.0128345319,\"act1 dist\":0.0134832121,\"act2 dist\":0.0136683422,\"act3 dist\":0.0136159781,\"act4 dist\":0.0056020748,\"act5 dist\":0.0169723787,\"act6 dist\":0.0026135284,\"act7 dist\":0.0075780325,\"act8 dist\":0.0013911038,\"act9 dist\":0.0007995809,\"act10 dist\":0.0006805465,\"act11 dist\":0.0006051068,\"label\":\"CS1\"},{\"act0 dist\":0.0127284833,\"act1 dist\":0.0134649133,\"act2 dist\":0.0140603364,\"act3 dist\":0.014016924,\"act4 dist\":0.005458175,\"act5 dist\":0.0160609746,\"act6 dist\":0.0026650012,\"act7 dist\":0.007660439,\"act8 dist\":0.0013432217,\"act9 dist\":0.0007332726,\"act10 dist\":0.0006081491,\"act11 dist\":0.0005441007,\"label\":\"CS1\"},{\"act0 dist\":0.0129462385,\"act1 dist\":0.0135872603,\"act2 dist\":0.0138130479,\"act3 dist\":0.0137061538,\"act4 dist\":0.0053732347,\"act5 dist\":0.0162063384,\"act6 dist\":0.0027944164,\"act7 dist\":0.0076647329,\"act8 dist\":0.0013148766,\"act9 dist\":0.0006771384,\"act10 dist\":0.0005765256,\"act11 dist\":0.0005162368,\"label\":\"CS1\"},{\"act0 dist\":0.0127881367,\"act1 dist\":0.0135096517,\"act2 dist\":0.0135408676,\"act3 dist\":0.0134200293,\"act4 dist\":0.0052575174,\"act5 dist\":0.0161297812,\"act6 dist\":0.0028135551,\"act7 dist\":0.0057197086,\"act8 dist\":0.0012686022,\"act9 dist\":0.0006360378,\"act10 dist\":0.0005497818,\"act11 dist\":0.0005464073,\"label\":\"CS1\"},{\"act0 dist\":0.0000320246,\"act1 dist\":0.0102293006,\"act2 dist\":0.0117277913,\"act3 dist\":0.0115850142,\"act4 dist\":0.0036489091,\"act5 dist\":0.0019684954,\"act6 dist\":0.0054274202,\"act7 dist\":0.0176854882,\"act8 dist\":0.0031544447,\"act9 dist\":0.0025159504,\"act10 dist\":0.0024443238,\"act11 dist\":0.0024131547,\"label\":\"CS2\"},{\"act0 dist\":0.0093497507,\"act1 dist\":0.0113469706,\"act2 dist\":0.0116810519,\"act3 dist\":0.0113874321,\"act4 dist\":0.0035838925,\"act5 dist\":0.0020125563,\"act6 dist\":0.0055024351,\"act7 dist\":0.0179337658,\"act8 dist\":0.0028122255,\"act9 dist\":0.0020658012,\"act10 dist\":0.0019978404,\"act11 dist\":0.0019702156,\"label\":\"CS2\"},{\"act0 dist\":0.0096833307,\"act1 dist\":0.0113573289,\"act2 dist\":0.0113764906,\"act3 dist\":0.0118158394,\"act4 dist\":0.0035361752,\"act5 dist\":0.0020374379,\"act6 dist\":0.0053916836,\"act7 dist\":0.0185596303,\"act8 dist\":0.0024961877,\"act9 dist\":0.0016721358,\"act10 dist\":0.0015963719,\"act11 dist\":0.0015861455,\"label\":\"CS2\"},{\"act0 dist\":0.0099349168,\"act1 dist\":0.0113046568,\"act2 dist\":0.0115463176,\"act3 dist\":0.0118747685,\"act4 dist\":0.0035091523,\"act5 dist\":0.0020421458,\"act6 dist\":0.0051534818,\"act7 dist\":0.0192154792,\"act8 dist\":0.0021589141,\"act9 dist\":0.0013301711,\"act10 dist\":0.0012447251,\"act11 dist\":0.0012404198,\"label\":\"CS2\"},{\"act0 dist\":0.0099918457,\"act1 dist\":0.0113143264,\"act2 dist\":0.0113662272,\"act3 dist\":0.0113730727,\"act4 dist\":0.00354359,\"act5 dist\":0.0020857773,\"act6 dist\":0.0049738342,\"act7 dist\":0.0191075236,\"act8 dist\":0.0018912615,\"act9 dist\":0.001027766,\"act10 dist\":0.0009930404,\"act11 dist\":0.0009714035,\"label\":\"CS2\"},{\"act0 dist\":0.0097067934,\"act1 dist\":0.0111227489,\"act2 dist\":0.0113430077,\"act3 dist\":0.0113451686,\"act4 dist\":0.0034972157,\"act5 dist\":0.0021311632,\"act6 dist\":0.0048824396,\"act7 dist\":0.0191866684,\"act8 dist\":0.0017014743,\"act9 dist\":0.0008082059,\"act10 dist\":0.0007526072,\"act11 dist\":0.0007383852,\"label\":\"CS2\"},{\"act0 dist\":0.0103925269,\"act1 dist\":0.0112435351,\"act2 dist\":0.0114805072,\"act3 dist\":0.0113358329,\"act4 dist\":0.0033420273,\"act5 dist\":0.0021649948,\"act6 dist\":0.0048068289,\"act7 dist\":0.0194828245,\"act8 dist\":0.0014755281,\"act9 dist\":0.0006258677,\"act10 dist\":0.0005045073,\"act11 dist\":0.000488137,\"label\":\"CS2\"},{\"act0 dist\":0.0107778777,\"act1 dist\":0.0111766045,\"act2 dist\":0.0111999341,\"act3 dist\":0.0112270228,\"act4 dist\":0.0033255189,\"act5 dist\":0.0023396765,\"act6 dist\":0.0047531993,\"act7 dist\":0.0195231563,\"act8 dist\":0.001229111,\"act9 dist\":0.0004431329,\"act10 dist\":0.0004095058,\"act11 dist\":0.0004000517,\"label\":\"CS2\"},{\"act0 dist\":0.0108286799,\"act1 dist\":0.0111320049,\"act2 dist\":0.0112891905,\"act3 dist\":0.0115027683,\"act4 dist\":0.0032480029,\"act5 dist\":0.002769604,\"act6 dist\":0.0046656385,\"act7 dist\":0.0193339327,\"act8 dist\":0.0011556625,\"act9 dist\":0.0004153207,\"act10 dist\":0.0004102654,\"act11 dist\":0.0004076221,\"label\":\"CS2\"},{\"act0 dist\":0.0106530349,\"act1 dist\":0.0111180342,\"act2 dist\":0.0113700299,\"act3 dist\":0.0111137914,\"act4 dist\":0.0032257843,\"act5 dist\":0.0031216394,\"act6 dist\":0.0045710925,\"act7 dist\":0.0195498409,\"act8 dist\":0.0010952691,\"act9 dist\":0.0004241936,\"act10 dist\":0.0003928999,\"act11 dist\":0.0004078864,\"label\":\"CS2\"},{\"act0 dist\":0.0105410704,\"act1 dist\":0.0110513786,\"act2 dist\":0.0111545359,\"act3 dist\":0.0110784249,\"act4 dist\":0.00322151,\"act5 dist\":0.0033898372,\"act6 dist\":0.0045480431,\"act7 dist\":0.0194055494,\"act8 dist\":0.0011027825,\"act9 dist\":0.0004615846,\"act10 dist\":0.0004520984,\"act11 dist\":0.0004306726,\"label\":\"CS2\"},{\"act0 dist\":0.0109280689,\"act1 dist\":0.0112261331,\"act2 dist\":0.0111580334,\"act3 dist\":0.0112171899,\"act4 dist\":0.0032303017,\"act5 dist\":0.0036062318,\"act6 dist\":0.0045124649,\"act7 dist\":0.0193559043,\"act8 dist\":0.0011660012,\"act9 dist\":0.0005116557,\"act10 dist\":0.0004567164,\"act11 dist\":0.0004503711,\"label\":\"CS2\"},{\"act0 dist\":0.010924086,\"act1 dist\":0.0114842279,\"act2 dist\":0.0114688647,\"act3 dist\":0.0113162858,\"act4 dist\":0.0032293871,\"act5 dist\":0.0038562651,\"act6 dist\":0.0045080241,\"act7 dist\":0.0196061692,\"act8 dist\":0.0011592354,\"act9 dist\":0.0005585599,\"act10 dist\":0.0005065826,\"act11 dist\":0.0005003264,\"label\":\"CS2\"},{\"act0 dist\":0.0108525423,\"act1 dist\":0.011187018,\"act2 dist\":0.0113554756,\"act3 dist\":0.0114244721,\"act4 dist\":0.0032831381,\"act5 dist\":0.0039712186,\"act6 dist\":0.0044340832,\"act7 dist\":0.0190932923,\"act8 dist\":0.0012410234,\"act9 dist\":0.0005192785,\"act10 dist\":0.0005328907,\"act11 dist\":0.0004838482,\"label\":\"CS2\"}];\n",
       "          document.querySelector(\"#elem\").data = data;\n",
       "        </script>"
      ],
      "text/plain": [
       "<IPython.core.display.HTML object>"
      ]
     },
     "metadata": {},
     "output_type": "display_data"
    }
   ],
   "source": [
    "# Display the Dive visualization for this data\n",
    "from IPython.core.display import display, HTML\n",
    "\n",
    "HTML_TEMPLATE = \"\"\"\n",
    "        <script src=\"https://cdnjs.cloudflare.com/ajax/libs/webcomponentsjs/1.3.3/webcomponents-lite.js\"></script>\n",
    "        <link rel=\"import\" href=\"https://raw.githubusercontent.com/PAIR-code/facets/1.0.0/facets-dist/facets-jupyter.html\">\n",
    "        <facets-dive id=\"elem\" height=\"1000\"></facets-dive>\n",
    "        <script>\n",
    "          var data = {jsonstr};\n",
    "          document.querySelector(\"#elem\").data = data;\n",
    "        </script>\"\"\"\n",
    "html = HTML_TEMPLATE.format(jsonstr=jsonstr)\n",
    "display(HTML(html))\n",
    "\n",
    "with open(\"./dive.html\",'w') as fo:\n",
    "        fo.write(html)"
   ]
  },
  {
   "cell_type": "code",
   "execution_count": null,
   "id": "afa8e847",
   "metadata": {
    "collapsed": false,
    "jupyter": {
     "outputs_hidden": false
    },
    "pycharm": {
     "name": "#%%\n"
    }
   },
   "outputs": [],
   "source": [
    "# import hiplot as hip\n",
    "#\n",
    "# hip.Experiment.from_dataframe(cs1_df_theta).display()\n"
   ]
  },
  {
   "cell_type": "code",
   "execution_count": null,
   "id": "85fc9e93",
   "metadata": {
    "collapsed": false,
    "jupyter": {
     "outputs_hidden": false
    },
    "pycharm": {
     "name": "#%%\n"
    }
   },
   "outputs": [],
   "source": [
    "# show_plots(\"d_ee_theta\")\n",
    "#"
   ]
  },
  {
   "cell_type": "code",
   "execution_count": null,
   "id": "4b6a3f29",
   "metadata": {
    "collapsed": false,
    "jupyter": {
     "outputs_hidden": false
    },
    "pycharm": {
     "name": "#%%\n"
    }
   },
   "outputs": [],
   "source": [
    "# show_plots(\"d_ee_phi\")"
   ]
  },
  {
   "cell_type": "code",
   "execution_count": null,
   "id": "662e3620",
   "metadata": {
    "collapsed": false,
    "jupyter": {
     "outputs_hidden": false
    },
    "pycharm": {
     "name": "#%%\n"
    }
   },
   "outputs": [],
   "source": [
    "show_plots(\"obs_ee_theta\")"
   ]
  },
  {
   "cell_type": "code",
   "execution_count": null,
   "id": "b4fecc37",
   "metadata": {
    "collapsed": false,
    "jupyter": {
     "outputs_hidden": false
    },
    "pycharm": {
     "name": "#%%\n"
    }
   },
   "outputs": [],
   "source": [
    "# show_plots(\"obs_ee_phi\")"
   ]
  },
  {
   "cell_type": "code",
   "execution_count": null,
   "id": "3ae8e537",
   "metadata": {
    "collapsed": false,
    "jupyter": {
     "outputs_hidden": false
    },
    "pycharm": {
     "name": "#%%\n"
    }
   },
   "outputs": [],
   "source": [
    "# show_plots(\"dist\")\n",
    "\n"
   ]
  }
 ],
 "metadata": {
  "kernelspec": {
   "display_name": "Python 3 (ipykernel)",
   "language": "python",
   "name": "python3"
  },
  "language_info": {
   "codemirror_mode": {
    "name": "ipython",
    "version": 3
   },
   "file_extension": ".py",
   "mimetype": "text/x-python",
   "name": "python",
   "nbconvert_exporter": "python",
   "pygments_lexer": "ipython3",
   "version": "3.8.10"
  },
  "toc-autonumbering": false,
  "toc-showcode": true,
  "toc-showmarkdowntxt": true
 },
 "nbformat": 4,
 "nbformat_minor": 5
}
