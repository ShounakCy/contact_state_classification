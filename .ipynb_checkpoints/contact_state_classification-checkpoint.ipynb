{
 "cells": [
  {
   "cell_type": "code",
   "execution_count": 1,
   "id": "39b1f129",
   "metadata": {},
   "outputs": [],
   "source": [
    "import pandas as pd\n",
    "import os\n",
    "import numpy as np\n",
    "from loguru import logger\n",
    "import sys\n",
    "# Load dateloader\n",
    "from scipy.stats import gaussian_kde\n",
    "from sklearn import preprocessing\n",
    "from sklearn.neighbors import KNeighborsClassifier\n",
    "import contact_state_classification as csc"
   ]
  },
  {
   "cell_type": "code",
   "execution_count": 2,
   "id": "8cea87a8-ba96-4f25-ab0b-7793bc60fdd4",
   "metadata": {
    "pycharm": {
     "name": "#%%\n"
    }
   },
   "outputs": [
    {
     "name": "stderr",
     "output_type": "stream",
     "text": [
      "/usr/local/lib/python3.8/dist-packages/sklearn/neighbors/_classification.py:198: DataConversionWarning: A column-vector y was passed when a 1d array was expected. Please change the shape of y to (n_samples,), for example using ravel().\n",
      "  return self._fit(X, y)\n",
      "2021-11-07 14:03:16.382 | INFO     | contact_state_classification.cs_classifier:get_dataset_information:78 - All classes from the dataset RoboticsProject2510 are ['CS']: \n"
     ]
    },
    {
     "data": {
      "text/plain": [
       "(array([0]), array(['CS'], dtype='<U2'))"
      ]
     },
     "execution_count": 2,
     "metadata": {},
     "output_type": "execute_result"
    }
   ],
   "source": [
    "experiment_dir = csc.config.path[\"experiment_dir\"]\n",
    "cs_classifier = csc.CSClassifier(experiment_dir=experiment_dir, dataset_name=csc.config.path[\"dataset_name\"])\n",
    "\n",
    "cs_classifier.csd_data_dict.keys()\n",
    "\n",
    "cs_classifier.csd_data_dict[\"label\"]\n",
    "\n",
    "cs_classifier.predict(input_data=np.ones([1, 12]))"
   ]
  },
  {
   "cell_type": "code",
   "execution_count": 3,
   "id": "b35b247d-d44c-4590-af36-35fc4347bb7a",
   "metadata": {
    "collapsed": false,
    "jupyter": {
     "outputs_hidden": false
    },
    "pycharm": {
     "name": "#%%\n"
    }
   },
   "outputs": [],
   "source": [
    "import base64\n",
    "from facets_overview.generic_feature_statistics_generator import GenericFeatureStatisticsGenerator\n",
    "\n",
    "# set the sprite_size based on the number of records in dataset,\n",
    "# larger datasets can crash the browser if the size is too large (>50000)\n",
    "features = [\"Age\", \"Workclass\", \"fnlwgt\", \"Education\", \"Education-Num\", \"Marital Status\",\n",
    "            \"Occupation\", \"Relationship\", \"Race\", \"Sex\", \"Capital Gain\", \"Capital Loss\",\n",
    "            \"Hours per week\", \"Country\", \"Target\"]\n",
    "\n",
    "# df = pd.read_csv(\"https://archive.ics.uci.edu/ml/machine-learning-databases/adult/adult.test\",\n",
    "#     names=features, # name features for header row\n",
    "#     sep=r'\\s*,\\s*', # separator used in this dataset\n",
    "#     engine='python',\n",
    "#     skiprows=[0], # skip first row without data \n",
    "#     na_values=\"?\") # add ? where data is missing\n",
    "\n",
    "df =  pd.DataFrame({'action' : list(range(1, 13)),\n",
    "                    'dist' : cs_classifier.csd_data_dict[\"dist\"][0],\n",
    "                    'd_ee_velocity_d0' : np.array(cs_classifier.csd_data_dict[\"d_ee_velocity\"][0])[:, 0],\n",
    "                    'd_ee_velocity_d1' : np.array(cs_classifier.csd_data_dict[\"d_ee_velocity\"][0])[:, 1],\n",
    "                    'd_ee_velocity_d2' : np.array(cs_classifier.csd_data_dict[\"d_ee_velocity\"][0])[:, 2],\n",
    "                    'd_ee_velocity_d3' : np.array(cs_classifier.csd_data_dict[\"d_ee_velocity\"][0])[:, 3],\n",
    "                    'd_ee_velocity_d4' : np.array(cs_classifier.csd_data_dict[\"d_ee_velocity\"][0])[:, 4],\n",
    "                    'd_ee_velocity_d5' : np.array(cs_classifier.csd_data_dict[\"d_ee_velocity\"][0])[:, 5]})\n",
    "\n",
    "\n",
    "gfsg = GenericFeatureStatisticsGenerator()\n",
    "proto = GenericFeatureStatisticsGenerator().ProtoFromDataFrames([{'name': 'test', 'table': df}])\n",
    "protostr = base64.b64encode(proto.SerializeToString()).decode(\"utf-8\")\n",
    "\n",
    "sprite_size = 32 if len(df.index)>50000 else 64\n",
    "jsonstr = df.to_json(orient='records')"
   ]
  },
  {
   "cell_type": "code",
   "execution_count": 4,
   "id": "932018ec-0b2d-4602-9954-643572cf6c1a",
   "metadata": {
    "collapsed": false,
    "jupyter": {
     "outputs_hidden": false
    },
    "pycharm": {
     "name": "#%%\n"
    }
   },
   "outputs": [],
   "source": [
    "# Display the facets overview visualization for this data\n",
    "# from IPython.core.display import display, HTML\n",
    "\n",
    "# HTML_TEMPLATE = \"\"\"\n",
    "#         <script src=\"https://cdnjs.cloudflare.com/ajax/libs/webcomponentsjs/1.3.3/webcomponents-lite.js\"></script>\n",
    "#         <link rel=\"import\" href=\"https://raw.githubusercontent.com/PAIR-code/facets/1.0.0/facets-dist/facets-jupyter.html\" >\n",
    "#         <facets-overview id=\"elem\"></facets-overview>\n",
    "#         <script>\n",
    "#           document.querySelector(\"#elem\").protoInput = \"{protostr}\";\n",
    "#         </script>\"\"\"\n",
    "# html = HTML_TEMPLATE.format(protostr=protostr)\n",
    "# display(HTML(html))"
   ]
  },
  {
   "cell_type": "code",
   "execution_count": 5,
   "id": "c796cb1a-3e47-455f-a342-cfad64e893f9",
   "metadata": {
    "tags": []
   },
   "outputs": [
    {
     "data": {
      "text/html": [
       "<link rel=\"import\" href=\"/nbextensions/facets-dist/facets-jupyter.html\">\n",
       "        <facets-dive sprite-image-width=\"64\" sprite-image-height=\"64\" id=\"elem\" height=\"600\"></facets-dive>\n",
       "        <facets-overview id=\"fo\"></facets-overview>\n",
       "        <script>\n",
       "          document.querySelector(\"#elem\").data = [{\"action\":1,\"dist\":0.0000895197,\"d_ee_velocity_d0\":1.224646799e-17,\"d_ee_velocity_d1\":0.0,\"d_ee_velocity_d2\":-0.1,\"d_ee_velocity_d3\":0.0,\"d_ee_velocity_d4\":0.0,\"d_ee_velocity_d5\":0.0},{\"action\":2,\"dist\":0.0162565277,\"d_ee_velocity_d0\":7.498798913e-34,\"d_ee_velocity_d1\":1.224646799e-17,\"d_ee_velocity_d2\":-0.1,\"d_ee_velocity_d3\":0.0,\"d_ee_velocity_d4\":0.0,\"d_ee_velocity_d5\":0.0},{\"action\":3,\"dist\":0.0171398847,\"d_ee_velocity_d0\":-1.224646799e-17,\"d_ee_velocity_d1\":1.499759783e-33,\"d_ee_velocity_d2\":-0.1,\"d_ee_velocity_d3\":0.0,\"d_ee_velocity_d4\":0.0,\"d_ee_velocity_d5\":0.0},{\"action\":4,\"dist\":0.0173243722,\"d_ee_velocity_d0\":7.498798913e-34,\"d_ee_velocity_d1\":-1.224646799e-17,\"d_ee_velocity_d2\":-0.1,\"d_ee_velocity_d3\":0.0,\"d_ee_velocity_d4\":0.0,\"d_ee_velocity_d5\":0.0},{\"action\":5,\"dist\":0.002483388,\"d_ee_velocity_d0\":0.1,\"d_ee_velocity_d1\":0.0,\"d_ee_velocity_d2\":6.123233996e-18,\"d_ee_velocity_d3\":0.0,\"d_ee_velocity_d4\":0.0,\"d_ee_velocity_d5\":0.0},{\"action\":6,\"dist\":0.0028817288,\"d_ee_velocity_d0\":6.123233996e-18,\"d_ee_velocity_d1\":0.1,\"d_ee_velocity_d2\":6.123233996e-18,\"d_ee_velocity_d3\":0.0,\"d_ee_velocity_d4\":0.0,\"d_ee_velocity_d5\":0.0},{\"action\":7,\"dist\":0.0033645707,\"d_ee_velocity_d0\":-0.1,\"d_ee_velocity_d1\":1.224646799e-17,\"d_ee_velocity_d2\":6.123233996e-18,\"d_ee_velocity_d3\":0.0,\"d_ee_velocity_d4\":0.0,\"d_ee_velocity_d5\":0.0},{\"action\":8,\"dist\":0.0047364508,\"d_ee_velocity_d0\":6.123233996e-18,\"d_ee_velocity_d1\":-0.1,\"d_ee_velocity_d2\":6.123233996e-18,\"d_ee_velocity_d3\":0.0,\"d_ee_velocity_d4\":0.0,\"d_ee_velocity_d5\":0.0},{\"action\":9,\"dist\":0.0034624364,\"d_ee_velocity_d0\":0.0,\"d_ee_velocity_d1\":0.0,\"d_ee_velocity_d2\":0.1,\"d_ee_velocity_d3\":0.0,\"d_ee_velocity_d4\":0.0,\"d_ee_velocity_d5\":0.0},{\"action\":10,\"dist\":0.0025762449,\"d_ee_velocity_d0\":0.0,\"d_ee_velocity_d1\":0.0,\"d_ee_velocity_d2\":0.1,\"d_ee_velocity_d3\":0.0,\"d_ee_velocity_d4\":0.0,\"d_ee_velocity_d5\":0.0},{\"action\":11,\"dist\":0.0025254534,\"d_ee_velocity_d0\":0.0,\"d_ee_velocity_d1\":0.0,\"d_ee_velocity_d2\":0.1,\"d_ee_velocity_d3\":0.0,\"d_ee_velocity_d4\":0.0,\"d_ee_velocity_d5\":0.0},{\"action\":12,\"dist\":0.0025199427,\"d_ee_velocity_d0\":0.0,\"d_ee_velocity_d1\":0.0,\"d_ee_velocity_d2\":0.1,\"d_ee_velocity_d3\":0.0,\"d_ee_velocity_d4\":0.0,\"d_ee_velocity_d5\":0.0}];\n",
       "          document.querySelector(\"#fo\").protoInput = \"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\";\n",
       "        </script>"
      ],
      "text/plain": [
       "<IPython.core.display.HTML object>"
      ]
     },
     "metadata": {},
     "output_type": "display_data"
    }
   ],
   "source": [
    "# Display the Dive visualization for this data\n",
    "from IPython.core.display import display, HTML\n",
    "\n",
    "# Create Facets template  \n",
    "HTML_TEMPLATE = \"\"\"<link rel=\"import\" href=\"/nbextensions/facets-dist/facets-jupyter.html\">\n",
    "        <facets-dive sprite-image-width=\"{sprite_size}\" sprite-image-height=\"{sprite_size}\" id=\"elem\" height=\"600\"></facets-dive>\n",
    "        <facets-overview id=\"fo\"></facets-overview>\n",
    "        <script>\n",
    "          document.querySelector(\"#elem\").data = {jsonstr};\n",
    "          document.querySelector(\"#fo\").protoInput = \"{protostr}\";\n",
    "        </script>\"\"\"\n",
    "\n",
    "# Load the json dataset and the sprite_size into the template\n",
    "html = HTML_TEMPLATE.format(jsonstr=jsonstr, sprite_size=sprite_size, protostr=protostr)\n",
    "\n",
    "# Display the template\n",
    "display(HTML(html))"
   ]
  },
  {
   "cell_type": "code",
   "execution_count": 5,
   "id": "4f650b85-4575-4477-95b6-3ce8589f7b09",
   "metadata": {},
   "outputs": [],
   "source": []
  }
 ],
 "metadata": {
  "kernelspec": {
   "display_name": "Python 3 (ipykernel)",
   "language": "python",
   "name": "python3"
  },
  "language_info": {
   "codemirror_mode": {
    "name": "ipython",
    "version": 3
   },
   "file_extension": ".py",
   "mimetype": "text/x-python",
   "name": "python",
   "nbconvert_exporter": "python",
   "pygments_lexer": "ipython3",
   "version": "3.8.10"
  },
  "toc-autonumbering": false,
  "toc-showcode": true,
  "toc-showmarkdowntxt": true
 },
 "nbformat": 4,
 "nbformat_minor": 5
}
